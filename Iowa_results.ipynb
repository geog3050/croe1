{
  "nbformat": 4,
  "nbformat_minor": 0,
  "metadata": {
    "colab": {
      "provenance": []
    },
    "kernelspec": {
      "name": "python3",
      "display_name": "Python 3"
    },
    "language_info": {
      "name": "python"
    }
  },
  "cells": [
    {
      "cell_type": "code",
      "execution_count": 1,
      "metadata": {
        "id": "9D0zgTJbG88R",
        "colab": {
          "base_uri": "https://localhost:8080/"
        },
        "outputId": "00a6487d-adef-4e51-9b76-17d665a48dd5"
      },
      "outputs": [
        {
          "output_type": "stream",
          "name": "stdout",
          "text": [
            "  President and Vice President ( 1)         Unnamed: 1  \\\n",
            "0                               NaN                NaN   \n",
            "1                               NaN  Registered Voters   \n",
            "2                              1 NW                  0   \n",
            "3                              2 NE                  0   \n",
            "4                              3 SW                  0   \n",
            "\n",
            "                             Unnamed: 2 Unnamed: 3   Unnamed: 4  \\\n",
            "0  Donald J. Trump and Michael R. Pence        NaN          NaN   \n",
            "1                          Election Day   Absentee  Total Votes   \n",
            "2                                   384        244          628   \n",
            "3                                   343        245          588   \n",
            "4                                   375        235          610   \n",
            "\n",
            "                             Unnamed: 5 Unnamed: 6   Unnamed: 7  \\\n",
            "0  Joseph R. Biden and Kamala D. Harris        NaN          NaN   \n",
            "1                          Election Day   Absentee  Total Votes   \n",
            "2                                    90        125          215   \n",
            "3                                    69        181          250   \n",
            "4                                    64        134          198   \n",
            "\n",
            "                                         Unnamed: 8 Unnamed: 9  ...  \\\n",
            "0  Roque Rocky De La Fuente and Darcy G. Richardson        NaN  ...   \n",
            "1                                      Election Day   Absentee  ...   \n",
            "2                                                 0          2  ...   \n",
            "3                                                 0          0  ...   \n",
            "4                                                 1          1  ...   \n",
            "\n",
            "                      Unnamed: 23 Unnamed: 24  Unnamed: 25  \\\n",
            "0  Brock Pierce and Karla Ballard         NaN          NaN   \n",
            "1                    Election Day    Absentee  Total Votes   \n",
            "2                               0           0            0   \n",
            "3                               0           0            0   \n",
            "4                               0           0            0   \n",
            "\n",
            "                       Unnamed: 26 Unnamed: 27  Unnamed: 28   Unnamed: 29  \\\n",
            "0  Kanye West and Michelle Tidball         NaN          NaN      Write-in   \n",
            "1                     Election Day    Absentee  Total Votes  Election Day   \n",
            "2                                0           0            0             0   \n",
            "3                                1           1            2             1   \n",
            "4                                2           0            2             0   \n",
            "\n",
            "  Unnamed: 30  Unnamed: 31 Unnamed: 32  \n",
            "0         NaN          NaN         NaN  \n",
            "1    Absentee  Total Votes       Total  \n",
            "2           1            1         853  \n",
            "3           0            1         854  \n",
            "4           0            0         815  \n",
            "\n",
            "[5 rows x 33 columns]\n"
          ]
        }
      ],
      "source": [
        "import pandas as pd\n",
        "pd.set_option('display.max_colwidth', None) # Set the option to display the full column width\n",
        "Adair = pd.read_csv('/content/Adair.csv') #open the dataset\n",
        "print(Adair.head(5))"
      ]
    },
    {
      "cell_type": "code",
      "source": [
        "#turn independent csv files into dataframes to combine into one dataframe\n",
        "Allamakee = pd.read_csv('/content/Allamakee.csv')\n",
        "Audubon = pd.read_csv('/content/Audubon.csv')\n",
        "BlackHawk = pd.read_csv('/content/Black Hawk.csv')\n",
        "Bremer = pd.read_csv('/content/Bremer.csv')\n",
        "BuenaVista = pd.read_csv('/content/Buena Vista.csv')\n",
        "Calhoun = pd.read_csv('/content/Calhoun.csv')\n",
        "Cass = pd.read_csv('/content/Cass.csv')\n",
        "CerroGordo = pd.read_csv('/content/Cerro Gordo.csv')\n",
        "Chickasaw = pd.read_csv('/content/Chickasaw.csv')\n",
        "Clay = pd.read_csv('/content/Clay.csv')\n",
        "Clinton = pd.read_csv('/content/Clinton.csv')\n",
        "Dallas = pd.read_csv('/content/Dallas.csv')\n",
        "Decatur = pd.read_csv('/content/Decatur.csv')\n",
        "DesMoines = pd.read_csv('/content/Des Moines.csv')\n",
        "Dubuque = pd.read_csv('/content/Dubuque.csv')\n",
        "Fayette = pd.read_csv('/content/Fayette.csv')\n",
        "Franklin = pd.read_csv('/content/Franklin.csv')\n",
        "Greene = pd.read_csv('/content/Greene.csv')\n",
        "Guthrie = pd.read_csv('/content/Guthrie.csv')\n",
        "Hancock = pd.read_csv('/content/Hancock.csv')\n",
        "Harrison = pd.read_csv('/content/Harrison.csv')\n",
        "Howard = pd.read_csv('/content/Howard.csv')\n",
        "Ida = pd.read_csv('/content/Ida.csv')\n",
        "Jackson = pd.read_csv('/content/Jackson.csv')\n",
        "Jefferson = pd.read_csv('/content/Jefferson.csv')\n",
        "Jones = pd.read_csv('/content/Jones.csv')\n",
        "Kossuth = pd.read_csv('/content/Kossuth.csv')\n",
        "Lucas = pd.read_csv('/content/Lucas.csv')\n",
        "Madison = pd.read_csv('/content/Madison.csv')\n",
        "Marion = pd.read_csv('/content/Marion.csv')\n",
        "Mills = pd.read_csv('/content/Mills.csv')\n",
        "Monona = pd.read_csv('/content/Monona.csv')\n",
        "Montgomery = pd.read_csv('/content/Montgomery.csv')\n",
        "OBrien = pd.read_csv('/content/OBrien.csv')\n",
        "Page = pd.read_csv('/content/Page.csv')\n",
        "Plymouth = pd.read_csv('/content/Plymouth.csv')\n",
        "Polk = pd.read_csv('/content/Polk.csv')\n",
        "Poweshiek = pd.read_csv('/content/Poweshiek.csv')\n",
        "Sac = pd.read_csv('/content/Sac.csv')\n",
        "Scott = pd.read_csv('/content/Scott.csv')\n",
        "Shelby = pd.read_csv('/content/Shelby.csv')\n",
        "Story = pd.read_csv('/content/Story.csv')\n",
        "Taylor = pd.read_csv('/content/Taylor.csv')\n",
        "VanBuren = pd.read_csv('/content/Van Buren.csv')\n",
        "Warren = pd.read_csv('/content/Warren.csv')\n",
        "Wayne = pd.read_csv('/content/Wayne.csv')\n",
        "Winnebago = pd.read_csv('/content/Winnebago.csv')\n",
        "Woodbury = pd.read_csv('/content/Woodbury.csv')\n",
        "Wright = pd.read_csv('/content/Wright.csv')\n",
        "\n",
        "Adams = pd.read_csv('/content/Adams.csv')\n",
        "Appanoose = pd.read_csv('/content/Appanoose.csv')\n",
        "Benton = pd.read_csv('/content/Benton.csv')\n",
        "Boone = pd.read_csv('/content/Boone.csv')\n",
        "Buchanan = pd.read_csv('/content/Buchanan.csv')\n",
        "Butler = pd.read_csv('/content/Butler.csv')\n",
        "Carroll = pd.read_csv('/content/Carroll.csv')\n",
        "Cedar = pd.read_csv('/content/Cedar.csv')\n",
        "Cherokee = pd.read_csv('/content/Cherokee.csv')\n",
        "Clarke = pd.read_csv('/content/Clarke.csv')\n",
        "Clayton = pd.read_csv('/content/Clayton.csv')\n",
        "Crawford = pd.read_csv('/content/Crawford.csv')\n",
        "Davis = pd.read_csv('/content/Davis.csv')\n",
        "Delaware = pd.read_csv('/content/Delaware.csv')\n",
        "Dickinson = pd.read_csv('/content/Dickinson.csv')\n",
        "Emmet = pd.read_csv('/content/Emmet.csv')\n",
        "Floyd = pd.read_csv('/content/Floyd.csv')\n",
        "Fremont = pd.read_csv('/content/Fremont.csv')\n",
        "Grundy = pd.read_csv('/content/Grundy.csv')\n",
        "Hamilton = pd.read_csv('/content/Hamilton.csv')\n",
        "Hardin = pd.read_csv('/content/Hardin.csv')\n",
        "Henry = pd.read_csv('/content/Henry.csv')\n",
        "Humboldt = pd.read_csv('/content/Humboldt.csv')\n",
        "Iowa = pd.read_csv('/content/Iowa.csv')\n",
        "Jasper = pd.read_csv('/content/Jasper.csv')\n",
        "Keokuk = pd.read_csv('/content/Keokuk.csv')\n",
        "Lee = pd.read_csv('/content/Lee.csv')\n",
        "Louisa = pd.read_csv('/content/Louisa.csv')\n",
        "Lyon = pd.read_csv('/content/Lyon.csv')\n",
        "Mahaska = pd.read_csv('/content/Mahaska.csv')\n",
        "Marshall = pd.read_csv('/content/Marshall.csv')\n",
        "Mitchell = pd.read_csv('/content/Mitchell.csv')\n",
        "Monroe = pd.read_csv('/content/Monroe.csv')\n",
        "Muscatine = pd.read_csv('/content/Muscatine.csv')\n",
        "Osceola = pd.read_csv('/content/Osceola.csv')\n",
        "PaloAlto = pd.read_csv('/content/Palo Alto.csv')\n",
        "Pocahontas = pd.read_csv('/content/Pocahontas.csv')\n",
        "Ringgold = pd.read_csv('/content/Ringgold.csv')\n",
        "Sioux = pd.read_csv('/content/Sioux.csv')\n",
        "Tama = pd.read_csv('/content/Tama.csv')\n",
        "Union = pd.read_csv('/content/Union.csv')\n",
        "Wapello = pd.read_csv('/content/Wapello.csv')\n",
        "Washington = pd.read_csv('/content/Washington.csv')\n",
        "Webster = pd.read_csv('/content/Webster.csv')\n",
        "Winneshiek = pd.read_csv('/content/Winneshiek.csv')\n",
        "Worth = pd.read_csv('/content/Worth.csv')"
      ],
      "metadata": {
        "id": "QFSCFtzuxRO4"
      },
      "execution_count": 3,
      "outputs": []
    },
    {
      "cell_type": "code",
      "source": [
        "def drop_rows(df):\n",
        "  df.drop([0,1], inplace = True) #Drop the first 2 rows\n",
        "  df.drop(df.tail(1).index, inplace = True) #Drop the last row\n",
        "\n",
        "def retrieve_variable_name(df): #function to retrieve the name of the dataframe\n",
        "    for name, var in globals().items():\n",
        "        if var is df:\n",
        "            return name\n",
        "    return None\n",
        "\n",
        "def add_column_with_variable_name(df): #function to create a new varaible with the name of the dataframe and the value in the precinct name column\n",
        "    df_name = retrieve_variable_name(df)\n",
        "    if df_name:\n",
        "        df['Precinct'] = df_name + ' ' + df['Precinct Name']\n",
        "\n",
        "def Trump_rename_columns(df): #rename columns for csv files that have Trump results first\n",
        "  df.rename(columns={'President and Vice President ( 1)' : 'Precinct Name', 'Unnamed: 1' : 'Registered Voters', 'Unnamed: 2' : 'Trump Election Day',\n",
        "       'Unnamed: 3' : 'Trump Absentee', 'Unnamed: 4' : 'Trump Total', 'Unnamed: 5' : 'Biden Election Day', 'Unnamed: 6' : 'Biden Absentee', 'Unnamed: 7' : 'Biden Total',\n",
        "       'Unnamed: 8' : 'Rocky Election Day', 'Unnamed: 9' : 'Rocky Absentee', 'Unnamed: 10' : 'Rocky Total', 'Unnamed: 11' : 'Don Election Day', 'Unnamed: 12' : 'Don Absentee',\n",
        "       'Unnamed: 13' : 'Don Total', 'Unnamed: 14' : 'Ricki Election Day', 'Unnamed: 15' : 'Ricki Absentee', 'Unnamed: 16' : 'Ricki Total',\n",
        "       'Unnamed: 17' : 'Howie Election Day', 'Unnamed: 18' : 'Howie Absentee', 'Unnamed: 19' : 'Howie Total', 'Unnamed: 20' : 'Jo Election Day',\n",
        "       'Unnamed: 21' : 'Jo Absentee', 'Unnamed: 22' : 'Jo Total', 'Unnamed: 23' : 'Brock Election Day', 'Unnamed: 24' : 'Brock Absentee',\n",
        "       'Unnamed: 25' : 'Brock Total', 'Unnamed: 26' : 'Kayne Election Day', 'Unnamed: 27' : 'Kayne Absentee', 'Unnamed: 28' : 'Kayne Total',\n",
        "       'Unnamed: 29' : 'Write-in Election Day', 'Unnamed: 30' : 'Write-in Absentee', 'Unnamed: 31' : 'Write-in Total', 'Unnamed: 32' : 'Total Votes'}, inplace=True)\n",
        "\n",
        "def Biden_rename_columns(df): #rename columns for csv files that have Biden results first\n",
        "  df.rename(columns={'President and Vice President ( 1)' : 'Precinct Name', 'Unnamed: 1' : 'Registered Voters', 'Unnamed: 2' : 'Biden Election Day',\n",
        "       'Unnamed: 3' : 'Biden Absentee', 'Unnamed: 4' : 'Biden Total', 'Unnamed: 5' : 'Trump Election Day', 'Unnamed: 6' : 'Trump Absentee', 'Unnamed: 7' : 'Trump Total',\n",
        "       'Unnamed: 8' : 'Rocky Election Day', 'Unnamed: 9' : 'Rocky Absentee', 'Unnamed: 10' : 'Rocky Total', 'Unnamed: 11' : 'Don Election Day', 'Unnamed: 12' : 'Don Absentee',\n",
        "       'Unnamed: 13' : 'Don Total', 'Unnamed: 14' : 'Ricki Election Day', 'Unnamed: 15' : 'Ricki Absentee', 'Unnamed: 16' : 'Ricki Total',\n",
        "       'Unnamed: 17' : 'Howie Election Day', 'Unnamed: 18' : 'Howie Absentee', 'Unnamed: 19' : 'Howie Total', 'Unnamed: 20' : 'Jo Election Day',\n",
        "       'Unnamed: 21' : 'Jo Absentee', 'Unnamed: 22' : 'Jo Total', 'Unnamed: 23' : 'Brock Election Day', 'Unnamed: 24' : 'Brock Absentee',\n",
        "       'Unnamed: 25' : 'Brock Total', 'Unnamed: 26' : 'Kayne Election Day', 'Unnamed: 27' : 'Kayne Absentee', 'Unnamed: 28' : 'Kayne Total',\n",
        "       'Unnamed: 29' : 'Write-in Election Day', 'Unnamed: 30' : 'Write-in Absentee', 'Unnamed: 31' : 'Write-in Total', 'Unnamed: 32' : 'Total Votes'}, inplace=True)"
      ],
      "metadata": {
        "id": "F28kdmKMmjHX"
      },
      "execution_count": 4,
      "outputs": []
    },
    {
      "cell_type": "code",
      "source": [
        "Trump = [Adair, Allamakee, Audubon, BlackHawk, Bremer, BuenaVista, Calhoun, Cass, CerroGordo, Chickasaw, Clay, Clinton, Dallas, Decatur, DesMoines, Dubuque,\n",
        "         Fayette, Franklin, Greene, Guthrie, Hancock, Harrison, Howard, Ida, Jackson, Jefferson, Jones, Kossuth, Lucas, Madison, Marion, Mills, Monona,\n",
        "         Montgomery, OBrien, Page, Plymouth, Polk, Poweshiek, Sac, Scott, Shelby, Story, Taylor, VanBuren, Warren, Wayne, Winnebago, Woodbury, Wright]\n",
        "\n",
        "Biden = [Adams, Appanoose, Benton, Boone, Buchanan, Butler, Carroll, Cedar, Cherokee, Clarke, Clayton, Crawford, Davis, Delaware, Dickinson, Emmet,\n",
        "         Floyd, Fremont, Grundy, Hamilton, Hardin, Henry, Humboldt, Iowa, Jasper, Keokuk, Lee, Louisa, Lyon, Mahaska, Marshall, Mitchell, Monroe,\n",
        "         Muscatine, Osceola, PaloAlto, Pocahontas, Ringgold, Sioux, Tama, Union, Wapello, Washington, Webster, Winneshiek, Worth]"
      ],
      "metadata": {
        "id": "OPv4kTQYwMCG"
      },
      "execution_count": 5,
      "outputs": []
    },
    {
      "cell_type": "code",
      "source": [
        "for df in Trump:\n",
        "  drop_rows(df)\n",
        "  Trump_rename_columns(df)\n",
        "\n",
        "for df in Biden:\n",
        "  drop_rows(df)\n",
        "  Biden_rename_columns(df)"
      ],
      "metadata": {
        "id": "YYFsrI3ljvoq"
      },
      "execution_count": 6,
      "outputs": []
    },
    {
      "cell_type": "code",
      "source": [
        "Johnson = pd.read_csv('/content/Johnson.csv')\n",
        "drop_rows(Johnson)\n",
        "Johnson.rename(columns={'President and Vice President ( 1)' : 'Precinct Name', 'Unnamed: 1' : 'Registered Voters', 'Unnamed: 2' : 'Biden Election Day',\n",
        "    'Unnamed: 3' : 'Biden Absentee', 'Unnamed: 4' : 'Biden Total', 'Unnamed: 5' : 'Trump Election Day', 'Unnamed: 6' : 'Trump Absentee', 'Unnamed: 7' : 'Trump Total',\n",
        "    'Unnamed: 8' : 'Don Election Day', 'Unnamed: 9' : 'Don Absentee', 'Unnamed: 10' : 'Don Total', 'Unnamed: 11' : 'Rocky Election Day', 'Unnamed: 12' : 'Rocky Absentee',\n",
        "    'Unnamed: 13' : 'Rocky Total', 'Unnamed: 14' : 'Howie Election Day', 'Unnamed: 15' : 'Howie Absentee', 'Unnamed: 16' : 'Howie Total',\n",
        "    'Unnamed: 17' : 'Jo Election Day', 'Unnamed: 18' : 'Jo Absentee', 'Unnamed: 19' : 'Jo Total', 'Unnamed: 20' : 'Ricki Election Day',\n",
        "    'Unnamed: 21' : 'Ricki Absentee', 'Unnamed: 22' : 'Ricki Total', 'Unnamed: 23' : 'Brock Election Day', 'Unnamed: 24' : 'Brock Absentee',\n",
        "    'Unnamed: 25' : 'Brock Total', 'Unnamed: 26' : 'Kayne Election Day', 'Unnamed: 27' : 'Kayne Absentee', 'Unnamed: 28' : 'Kayne Total',\n",
        "    'Unnamed: 29' : 'Write-in Election Day', 'Unnamed: 30' : 'Write-in Absentee', 'Unnamed: 31' : 'Write-in Total', 'Unnamed: 32' : 'Total Votes'}, inplace=True)"
      ],
      "metadata": {
        "id": "oBYrCPfIorFN"
      },
      "execution_count": 7,
      "outputs": []
    },
    {
      "cell_type": "code",
      "source": [
        "Linn = pd.read_csv('/content/Linn.csv')\n",
        "drop_rows(Linn)\n",
        "Linn.rename(columns={'President and Vice President ( 1)' : 'Precinct Name', 'Unnamed: 1' : 'Registered Voters', 'Unnamed: 2' : 'Trump Election Day',\n",
        "    'Unnamed: 3' : 'Trump Absentee', 'Unnamed: 4' : 'Trump Total', 'Unnamed: 5' : 'Biden Election Day', 'Unnamed: 6' : 'Biden Absentee', 'Unnamed: 7' : 'Biden Total',\n",
        "    'Unnamed: 8' : 'Jo Election Day', 'Unnamed: 9' : 'Jo Absentee', 'Unnamed: 10' : 'Jo Total', 'Unnamed: 11' : 'Howie Election Day', 'Unnamed: 12' : 'Howie Absentee',\n",
        "    'Unnamed: 13' : 'Howie Total', 'Unnamed: 14' : 'Rocky Election Day', 'Unnamed: 15' : 'Rocky Absentee', 'Unnamed: 16' : 'Rocky Total',\n",
        "    'Unnamed: 17' : 'Don Election Day', 'Unnamed: 18' : 'Don Absentee', 'Unnamed: 19' : 'Don Total', 'Unnamed: 20' : 'Ricki Election Day',\n",
        "    'Unnamed: 21' : 'Ricki Absentee', 'Unnamed: 22' : 'Ricki Total', 'Unnamed: 23' : 'Kayne Election Day', 'Unnamed: 24' : 'Kayne Absentee',\n",
        "    'Unnamed: 25' : 'Kayne Total', 'Unnamed: 26' : 'Brock Election Day', 'Unnamed: 27' : 'Brock Absentee', 'Unnamed: 28' : 'Brock Total',\n",
        "    'Unnamed: 29' : 'Write-in Election Day', 'Unnamed: 30' : 'Write-in Absentee', 'Unnamed: 31' : 'Write-in Total', 'Unnamed: 32' : 'Total Votes'}, inplace=True)"
      ],
      "metadata": {
        "id": "-1-j7O0ipSPb"
      },
      "execution_count": 8,
      "outputs": []
    },
    {
      "cell_type": "code",
      "source": [
        "Pottawattamie = pd.read_csv('/content/Pottawattamie.csv')\n",
        "drop_rows(Pottawattamie)\n",
        "Pottawattamie.rename(columns={'President and Vice President ( 1)' : 'Precinct Name', 'Unnamed: 1' : 'Registered Voters', 'Unnamed: 2' : 'Biden Election Day',\n",
        "    'Unnamed: 3' : 'Biden Absentee', 'Unnamed: 4' : 'Biden Total', 'Unnamed: 5' : 'Trump Election Day', 'Unnamed: 6' : 'Trump Absentee', 'Unnamed: 7' : 'Trump Total',\n",
        "    'Unnamed: 8' : 'Jo Election Day', 'Unnamed: 9' : 'Jo Absentee', 'Unnamed: 10' : 'Jo Total', 'Unnamed: 11' : 'Don Election Day', 'Unnamed: 12' : 'Don Absentee',\n",
        "    'Unnamed: 13' : 'Don Total', 'Unnamed: 14' : 'Howie Election Day', 'Unnamed: 15' : 'Howie Absentee', 'Unnamed: 16' : 'Howie Total',\n",
        "    'Unnamed: 17' : 'Rocky Election Day', 'Unnamed: 18' : 'Rocky Absentee', 'Unnamed: 19' : 'Rocky Total', 'Unnamed: 20' : 'Ricki Election Day',\n",
        "    'Unnamed: 21' : 'Ricki Absentee', 'Unnamed: 22' : 'Ricki Total', 'Unnamed: 23' : 'Brock Election Day', 'Unnamed: 24' : 'Brock Absentee',\n",
        "    'Unnamed: 25' : 'Brock Total', 'Unnamed: 26' : 'Kayne Election Day', 'Unnamed: 27' : 'Kayne Absentee', 'Unnamed: 28' : 'Kayne Total',\n",
        "    'Unnamed: 29' : 'Write-in Election Day', 'Unnamed: 30' : 'Write-in Absentee', 'Unnamed: 31' : 'Write-in Total', 'Unnamed: 32' : 'Total Votes'}, inplace=True)"
      ],
      "metadata": {
        "id": "CogtsxVJpVvn"
      },
      "execution_count": 9,
      "outputs": []
    },
    {
      "cell_type": "code",
      "source": [
        "AllCounties = [Adair, Allamakee, Audubon, BlackHawk, Bremer, BuenaVista, Calhoun, Cass, CerroGordo, Chickasaw, Clay, Clinton, Dallas, Decatur, DesMoines, Dubuque,\n",
        "         Fayette, Franklin, Greene, Guthrie, Hancock, Harrison, Howard, Ida, Jackson, Jefferson, Jones, Kossuth, Lucas, Madison, Marion, Mills, Monona,\n",
        "         Montgomery, OBrien, Page, Plymouth, Polk, Poweshiek, Sac, Scott, Shelby, Story, Taylor, VanBuren, Warren, Wayne, Winnebago, Woodbury, Wright,\n",
        "         Adams, Appanoose, Benton, Boone, Buchanan, Butler, Carroll, Cedar, Cherokee, Clarke, Clayton, Crawford, Davis, Delaware, Dickinson, Emmet,\n",
        "         Floyd, Fremont, Grundy, Hamilton, Hardin, Henry, Humboldt, Iowa, Jasper, Keokuk, Lee, Louisa, Lyon, Mahaska, Marshall, Mitchell, Monroe, Worth,\n",
        "         Muscatine, Osceola, PaloAlto, Pocahontas, Ringgold, Sioux, Tama, Union, Wapello, Webster, Winneshiek, Johnson, Linn, Pottawattamie]\n",
        "\n",
        "for df in AllCounties:\n",
        "  add_column_with_variable_name(df)"
      ],
      "metadata": {
        "id": "TohKvKHk8tCt"
      },
      "execution_count": 10,
      "outputs": []
    },
    {
      "cell_type": "code",
      "source": [
        "results = pd.concat([Adair, Allamakee, Audubon, BlackHawk, Bremer, BuenaVista, Calhoun, Cass, CerroGordo, Chickasaw, Clay, Clinton, Dallas, Decatur, DesMoines, Dubuque,\n",
        "         Fayette, Franklin, Greene, Guthrie, Hancock, Harrison, Howard, Ida, Jackson, Jefferson, Jones, Kossuth, Lucas, Madison, Marion, Mills, Monona,\n",
        "         Montgomery, OBrien, Page, Plymouth, Polk, Poweshiek, Sac, Scott, Shelby, Story, Taylor, VanBuren, Warren, Wayne, Winnebago, Woodbury, Wright,\n",
        "         Adams, Appanoose, Benton, Boone, Buchanan, Butler, Carroll, Cedar, Cherokee, Clarke, Clayton, Crawford, Davis, Delaware, Dickinson, Emmet,\n",
        "         Floyd, Fremont, Grundy, Hamilton, Hardin, Henry, Humboldt, Iowa, Jasper, Keokuk, Lee, Louisa, Lyon, Mahaska, Marshall, Mitchell, Monroe, Worth,\n",
        "         Muscatine, Osceola, PaloAlto, Pocahontas, Ringgold, Sioux, Tama, Union, Wapello, Webster, Winneshiek, Johnson, Linn, Pottawattamie], ignore_index=True)"
      ],
      "metadata": {
        "id": "Fq7-KLbCGCGT"
      },
      "execution_count": 11,
      "outputs": []
    },
    {
      "cell_type": "code",
      "source": [
        "print(results.columns)"
      ],
      "metadata": {
        "colab": {
          "base_uri": "https://localhost:8080/"
        },
        "id": "k5OmPFMbOkf2",
        "outputId": "1fe81643-ff46-4551-97a6-322392bb6056"
      },
      "execution_count": 12,
      "outputs": [
        {
          "output_type": "stream",
          "name": "stdout",
          "text": [
            "Index(['Precinct Name', 'Registered Voters', 'Trump Election Day',\n",
            "       'Trump Absentee', 'Trump Total', 'Biden Election Day', 'Biden Absentee',\n",
            "       'Biden Total', 'Rocky Election Day', 'Rocky Absentee', 'Rocky Total',\n",
            "       'Don Election Day', 'Don Absentee', 'Don Total', 'Ricki Election Day',\n",
            "       'Ricki Absentee', 'Ricki Total', 'Howie Election Day', 'Howie Absentee',\n",
            "       'Howie Total', 'Jo Election Day', 'Jo Absentee', 'Jo Total',\n",
            "       'Brock Election Day', 'Brock Absentee', 'Brock Total',\n",
            "       'Kayne Election Day', 'Kayne Absentee', 'Kayne Total',\n",
            "       'Write-in Election Day', 'Write-in Absentee', 'Write-in Total',\n",
            "       'Total Votes', 'Precinct'],\n",
            "      dtype='object')\n"
          ]
        }
      ]
    },
    {
      "cell_type": "code",
      "source": [
        "results.to_csv('Results.csv')"
      ],
      "metadata": {
        "id": "3B1rO8X5OnBG"
      },
      "execution_count": 13,
      "outputs": []
    }
  ]
}