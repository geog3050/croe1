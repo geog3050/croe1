{
  "nbformat": 4,
  "nbformat_minor": 0,
  "metadata": {
    "colab": {
      "provenance": [],
      "collapsed_sections": [
        "YaAxoAQsmMSh",
        "pjxTxKNumi8L",
        "zx3Q6FATZpS4",
        "EhZKGNbkZ9Uk",
        "osY1d5MDaQmi"
      ]
    },
    "kernelspec": {
      "name": "python3",
      "display_name": "Python 3"
    },
    "language_info": {
      "name": "python"
    }
  },
  "cells": [
    {
      "cell_type": "code",
      "source": [
        "import pandas as pd # this is importing a library that could read a csv file\n",
        "pd.set_option('display.max_colwidth', None) # Set the option to display the full column width to avoid the truncave截尾. Show the full twit.\n",
        "Iowa = pd.read_csv('/content/Iowa Polling Places.csv') #open the dataset. Click the file and click \"rename\" to copy its full name and paste it there.\n",
        "print(Iowa.head(5))"
      ],
      "metadata": {
        "id": "F2I7AkjdgIiP",
        "colab": {
          "base_uri": "https://localhost:8080/"
        },
        "outputId": "4d346ac9-b0ce-4b69-e38a-30771ffe8283"
      },
      "execution_count": null,
      "outputs": [
        {
          "output_type": "stream",
          "name": "stdout",
          "text": [
            "   Unnamed: 0 election_date state county_name jurisdiction jurisdiction_type  \\\n",
            "0           0     11/3/2020    IA       Adair        Adair            county   \n",
            "1           1     11/3/2020    IA       Adair        Adair            county   \n",
            "2           2     11/3/2020    IA       Adair        Adair            county   \n",
            "3           3     11/3/2020    IA       Adair        Adair            county   \n",
            "4           4     11/3/2020    IA       Adair        Adair            county   \n",
            "\n",
            "  precinct_id   precinct_name  polling_place_id location_type  ...  \\\n",
            "0         1NW       1NW ADAIR               NaN  election_day  ...   \n",
            "1         2NE      2NE STUART               NaN  election_day  ...   \n",
            "2         3SW  3SW FONTANELLE               NaN  election_day  ...   \n",
            "3         4SE      4SE ORIENT               NaN  election_day  ...   \n",
            "4         5GF  5GF GREENFIELD               NaN  election_day  ...   \n",
            "\n",
            "                                   address notes  source source_date  \\\n",
            "0          320 AUDUBON ST, ADAIR, IA 50002   NaN     ORR   10/9/2020   \n",
            "1          323 SW 2ND ST, STUART, IA 50250   NaN     ORR   10/9/2020   \n",
            "2         224 3RD ST, FONTANELLE, IA 50846   NaN     ORR   10/9/2020   \n",
            "3         124 S MAPLE ST, ORIENT, IA 50858   NaN     ORR   10/9/2020   \n",
            "4  202 N TOWNLINE RD, GREENFIELD, IA 50849   NaN     ORR   10/9/2020   \n",
            "\n",
            "  source_notes  StreetAddress  City  StateZip  State  ZipCode  \n",
            "0          NaN            NaN   NaN       NaN    NaN      NaN  \n",
            "1          NaN            NaN   NaN       NaN    NaN      NaN  \n",
            "2          NaN            NaN   NaN       NaN    NaN      NaN  \n",
            "3          NaN            NaN   NaN       NaN    NaN      NaN  \n",
            "4          NaN            NaN   NaN       NaN    NaN      NaN  \n",
            "\n",
            "[5 rows x 21 columns]\n"
          ]
        }
      ]
    },
    {
      "cell_type": "code",
      "source": [
        "print(Iowa.columns) #Show the name of all the variables.\n",
        "fieldnames = Iowa.columns"
      ],
      "metadata": {
        "id": "PQLNowYEO0jI",
        "colab": {
          "base_uri": "https://localhost:8080/"
        },
        "outputId": "622f6779-7d0e-458e-9074-d664796a62a2"
      },
      "execution_count": null,
      "outputs": [
        {
          "output_type": "stream",
          "name": "stdout",
          "text": [
            "Index(['Unnamed: 0', 'election_date', 'state', 'county_name', 'jurisdiction',\n",
            "       'jurisdiction_type', 'precinct_id', 'precinct_name', 'polling_place_id',\n",
            "       'location_type', 'name', 'address', 'notes', 'source', 'source_date',\n",
            "       'source_notes', 'StreetAddress', 'City', 'StateZip', 'State',\n",
            "       'ZipCode'],\n",
            "      dtype='object')\n"
          ]
        }
      ]
    },
    {
      "cell_type": "code",
      "source": [
        "#Split the addresses into separate columns\n",
        "Iowa[['StreetAddress', 'City', 'StateZip']] = Iowa['address'].str.split(', ', expand=True)"
      ],
      "metadata": {
        "id": "Yb6z9FvZtVlJ"
      },
      "execution_count": null,
      "outputs": []
    },
    {
      "cell_type": "code",
      "source": [
        "#Split state and Zip code into separate columns\n",
        "Iowa[['State', 'ZipCode']] = Iowa['StateZip'].str.split(' ', expand=True)"
      ],
      "metadata": {
        "id": "m0BsL6GaX-CI"
      },
      "execution_count": null,
      "outputs": []
    },
    {
      "cell_type": "code",
      "source": [
        "#drop column 'StateZip'\n",
        "Iowa.drop(columns=['StateZip'], inplace=True)"
      ],
      "metadata": {
        "id": "gp1--yjXZNTq"
      },
      "execution_count": null,
      "outputs": []
    },
    {
      "cell_type": "code",
      "source": [
        "#Open category dictionary\n",
        "categorize = pd.read_csv(r'/content/Religious Buildings Dictionary.csv') #open the dictionary\n",
        "print(categorize.head(10)) #check first 10 rows"
      ],
      "metadata": {
        "id": "apN6xfWodQma",
        "colab": {
          "base_uri": "https://localhost:8080/"
        },
        "outputId": "c655a4f3-ebf6-4ce2-a363-34b0abb07a42"
      },
      "execution_count": null,
      "outputs": [
        {
          "output_type": "stream",
          "name": "stdout",
          "text": [
            "            category       word\n",
            "0  ReligiousBuilding     CHURCH\n",
            "1  ReligiousBuilding  SYNAGOGUE\n",
            "2  ReligiousBuilding     MOSQUE\n",
            "3  ReligiousBuilding  CHRISTIAN\n",
            "4  ReligiousBuilding  METHODIST\n",
            "5  ReligiousBuilding   LUTHERAN\n",
            "6  ReligiousBuilding       ZION\n",
            "7  ReligiousBuilding   PASTORAL\n",
            "8  ReligiousBuilding     PARISH\n",
            "9  ReligiousBuilding      PRESB\n"
          ]
        }
      ]
    },
    {
      "cell_type": "code",
      "source": [
        "#Create a function to lookup and assign categories\n",
        "def assign_category(text):\n",
        "    matching_categories = categorize[categorize['word'].apply(lambda word: str(word) in text)] #this is a function telling that for words in text, see if each word matches with word in the dictionary\n",
        "\n",
        "    if not matching_categories.empty: #when there is a match\n",
        "        return ', '.join(matching_categories['category']) #list the category name. When there are more than two matches, put category names joined by ','\n",
        "    else:\n",
        "        return 'NonReligious' # if there is no match"
      ],
      "metadata": {
        "id": "qzcUfxGyiI3Z"
      },
      "execution_count": null,
      "outputs": []
    },
    {
      "cell_type": "code",
      "source": [
        "Iowa['category'] = Iowa['name'].apply(assign_category) #make another column, 'category' containing list of categories associated with name"
      ],
      "metadata": {
        "id": "fubQ-siFiK98"
      },
      "execution_count": null,
      "outputs": []
    },
    {
      "cell_type": "code",
      "source": [
        "Iowa['category'].value_counts()"
      ],
      "metadata": {
        "colab": {
          "base_uri": "https://localhost:8080/"
        },
        "id": "9j-S3qPQKgo-",
        "outputId": "0f2e7408-723b-4122-9958-2fc91928db44"
      },
      "execution_count": null,
      "outputs": [
        {
          "output_type": "execute_result",
          "data": {
            "text/plain": [
              "category\n",
              "NonReligious                                               1257\n",
              "ReligiousBuilding, ReligiousBuilding                        247\n",
              "ReligiousBuilding                                           167\n",
              "ReligiousBuilding, ReligiousBuilding, ReligiousBuilding      10\n",
              "Name: count, dtype: int64"
            ]
          },
          "metadata": {},
          "execution_count": 9
        }
      ]
    },
    {
      "cell_type": "code",
      "source": [
        "#Split the 'category' column by comma and create a new DataFrame with each category in a separate row\n",
        "categories_split = Iowa['category'].str.split(', ').explode().reset_index(drop=True) #explode to check all the categories associated with the dataset\n",
        "unique_categories = categories_split.unique() #only retain unique categories\n",
        "print(unique_categories) #print unique categories found in the dataset"
      ],
      "metadata": {
        "colab": {
          "base_uri": "https://localhost:8080/"
        },
        "outputId": "c687eb60-d27e-4e76-a948-e98f22953a2a",
        "id": "UJt98CFsKoXb"
      },
      "execution_count": null,
      "outputs": [
        {
          "output_type": "stream",
          "name": "stdout",
          "text": [
            "['NonReligious' 'ReligiousBuilding']\n"
          ]
        }
      ]
    },
    {
      "cell_type": "code",
      "source": [
        "Iowa['category'] = Iowa['category'].astype(str) #make sure the category column is in string\n",
        "categories_split = Iowa['category'].str.split(', ') # Split the 'category' column by comma (', ') and create binary columns\n",
        "print(categories_split) #look at the results\n",
        "\n",
        "for new_column in unique_categories:\n",
        "    Iowa[new_column] = categories_split.apply(lambda x: x.count(new_column)) #create columns and count the number of the category in the list\n",
        "\n",
        "Iowa.fillna(0, inplace=True) # Fill NaN values with 0 in the binary columns"
      ],
      "metadata": {
        "colab": {
          "base_uri": "https://localhost:8080/"
        },
        "outputId": "37519075-f2fb-4db1-d859-322ad8e1b30c",
        "id": "SX-YD2kIK2zJ"
      },
      "execution_count": null,
      "outputs": [
        {
          "output_type": "stream",
          "name": "stdout",
          "text": [
            "0                               [NonReligious]\n",
            "1                               [NonReligious]\n",
            "2                               [NonReligious]\n",
            "3       [ReligiousBuilding, ReligiousBuilding]\n",
            "4                               [NonReligious]\n",
            "                         ...                  \n",
            "1676                            [NonReligious]\n",
            "1677                            [NonReligious]\n",
            "1678                            [NonReligious]\n",
            "1679                            [NonReligious]\n",
            "1680                            [NonReligious]\n",
            "Name: category, Length: 1681, dtype: object\n"
          ]
        }
      ]
    },
    {
      "cell_type": "code",
      "source": [
        "Iowa.columns"
      ],
      "metadata": {
        "id": "qLMJO1asi0G_",
        "colab": {
          "base_uri": "https://localhost:8080/"
        },
        "outputId": "c991d188-17fa-426a-ccb2-531ccf206283"
      },
      "execution_count": null,
      "outputs": [
        {
          "output_type": "execute_result",
          "data": {
            "text/plain": [
              "Index(['Unnamed: 0', 'election_date', 'state', 'county_name', 'jurisdiction',\n",
              "       'jurisdiction_type', 'precinct_id', 'precinct_name', 'polling_place_id',\n",
              "       'location_type', 'name', 'address', 'notes', 'source', 'source_date',\n",
              "       'source_notes', 'StreetAddress', 'City', 'State', 'ZipCode', 'category',\n",
              "       'NonReligious', 'ReligiousBuilding'],\n",
              "      dtype='object')"
            ]
          },
          "metadata": {},
          "execution_count": 12
        }
      ]
    },
    {
      "cell_type": "code",
      "source": [
        "def generate_type(df):\n",
        "    religious = 1\n",
        "    nonreligious = 2\n",
        "\n",
        "    # Generate 'building type' based on conditions\n",
        "    df['BuildingType'] = None  # Initialize new column with None\n",
        "\n",
        "    # Update 'building type' based on conditions\n",
        "    df.loc[df['ReligiousBuilding'] > 0, 'BuildingType'] = 'Religious'\n",
        "    df.loc[df['NonReligious'] > 0, 'BuildingType'] = 'NonReligious'\n",
        "\n",
        "    return df\n",
        "\n",
        "Iowa = generate_type(Iowa)"
      ],
      "metadata": {
        "id": "g8p0t3ETvZnD"
      },
      "execution_count": null,
      "outputs": []
    },
    {
      "cell_type": "code",
      "source": [
        "Iowa.columns"
      ],
      "metadata": {
        "colab": {
          "base_uri": "https://localhost:8080/"
        },
        "outputId": "cb591a2b-4719-471d-d521-526d7f0b7d5c",
        "id": "H0AWdnwsThR2"
      },
      "execution_count": null,
      "outputs": [
        {
          "output_type": "execute_result",
          "data": {
            "text/plain": [
              "Index(['Unnamed: 0', 'election_date', 'state', 'county_name', 'jurisdiction',\n",
              "       'jurisdiction_type', 'precinct_id', 'precinct_name', 'polling_place_id',\n",
              "       'location_type', 'name', 'address', 'notes', 'source', 'source_date',\n",
              "       'source_notes', 'StreetAddress', 'City', 'State', 'ZipCode', 'category',\n",
              "       'NonReligious', 'ReligiousBuilding', 'BuildingType'],\n",
              "      dtype='object')"
            ]
          },
          "metadata": {},
          "execution_count": 15
        }
      ]
    },
    {
      "cell_type": "code",
      "source": [
        "Iowa['BuildingType'].value_counts()"
      ],
      "metadata": {
        "colab": {
          "base_uri": "https://localhost:8080/"
        },
        "id": "kGkodVvLTrq8",
        "outputId": "5a47391e-91e8-4c0d-a294-c54ac503c6ac"
      },
      "execution_count": null,
      "outputs": [
        {
          "output_type": "execute_result",
          "data": {
            "text/plain": [
              "BuildingType\n",
              "NonReligious    1257\n",
              "Religious        424\n",
              "Name: count, dtype: int64"
            ]
          },
          "metadata": {},
          "execution_count": 16
        }
      ]
    },
    {
      "cell_type": "code",
      "source": [
        "#Save data to csv file.\n",
        "Iowa.to_csv(\"Iowa Processed.csv\")"
      ],
      "metadata": {
        "id": "zeYf2Cvxup1Z"
      },
      "execution_count": null,
      "outputs": []
    }
  ]
}