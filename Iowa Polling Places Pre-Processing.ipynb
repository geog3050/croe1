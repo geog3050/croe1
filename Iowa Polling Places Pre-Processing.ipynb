{
  "nbformat": 4,
  "nbformat_minor": 0,
  "metadata": {
    "colab": {
      "provenance": [],
      "collapsed_sections": [
        "YaAxoAQsmMSh",
        "pjxTxKNumi8L",
        "zx3Q6FATZpS4",
        "EhZKGNbkZ9Uk",
        "osY1d5MDaQmi"
      ]
    },
    "kernelspec": {
      "name": "python3",
      "display_name": "Python 3"
    },
    "language_info": {
      "name": "python"
    }
  },
  "cells": [
    {
      "cell_type": "code",
      "source": [
        "import pandas as pd # this is importing a library that could read a csv file\n",
        "pd.set_option('display.max_colwidth', None) # Set the option to display the full column width to avoid the truncave截尾. Show the full twit.\n",
        "Iowa = pd.read_csv('/content/Iowa Polling Places.csv') #open the dataset. Click the file and click \"rename\" to copy its full name and paste it there.\n",
        "print(Iowa.head(5))"
      ],
      "metadata": {
        "id": "F2I7AkjdgIiP",
        "colab": {
          "base_uri": "https://localhost:8080/"
        },
        "outputId": "7e165e08-10fd-4bcd-e223-b0ab455b7d62"
      },
      "execution_count": 2,
      "outputs": [
        {
          "output_type": "stream",
          "name": "stdout",
          "text": [
            "   Unnamed: 0 election_date state county_name jurisdiction jurisdiction_type  \\\n",
            "0           0     11/3/2020    IA       Adair        Adair            county   \n",
            "1           1     11/3/2020    IA       Adair        Adair            county   \n",
            "2           2     11/3/2020    IA       Adair        Adair            county   \n",
            "3           3     11/3/2020    IA       Adair        Adair            county   \n",
            "4           4     11/3/2020    IA       Adair        Adair            county   \n",
            "\n",
            "  precinct_id   precinct_name  polling_place_id location_type  ...  \\\n",
            "0         1NW       1NW ADAIR               NaN  election_day  ...   \n",
            "1         2NE      2NE STUART               NaN  election_day  ...   \n",
            "2         3SW  3SW FONTANELLE               NaN  election_day  ...   \n",
            "3         4SE      4SE ORIENT               NaN  election_day  ...   \n",
            "4         5GF  5GF GREENFIELD               NaN  election_day  ...   \n",
            "\n",
            "                                   address notes  source source_date  \\\n",
            "0          320 AUDUBON ST, ADAIR, IA 50002   NaN     ORR   10/9/2020   \n",
            "1          323 SW 2ND ST, STUART, IA 50250   NaN     ORR   10/9/2020   \n",
            "2         224 3RD ST, FONTANELLE, IA 50846   NaN     ORR   10/9/2020   \n",
            "3         124 S MAPLE ST, ORIENT, IA 50858   NaN     ORR   10/9/2020   \n",
            "4  202 N TOWNLINE RD, GREENFIELD, IA 50849   NaN     ORR   10/9/2020   \n",
            "\n",
            "  source_notes  StreetAddress  City  StateZip  State  ZipCode  \n",
            "0          NaN            NaN   NaN       NaN    NaN      NaN  \n",
            "1          NaN            NaN   NaN       NaN    NaN      NaN  \n",
            "2          NaN            NaN   NaN       NaN    NaN      NaN  \n",
            "3          NaN            NaN   NaN       NaN    NaN      NaN  \n",
            "4          NaN            NaN   NaN       NaN    NaN      NaN  \n",
            "\n",
            "[5 rows x 21 columns]\n"
          ]
        }
      ]
    },
    {
      "cell_type": "code",
      "source": [
        "print(Iowa.columns) #Show the name of all the variables.\n",
        "fieldnames = Iowa.columns"
      ],
      "metadata": {
        "id": "PQLNowYEO0jI",
        "colab": {
          "base_uri": "https://localhost:8080/"
        },
        "outputId": "0985e215-9692-44c7-ad36-bdf66127a92e"
      },
      "execution_count": 3,
      "outputs": [
        {
          "output_type": "stream",
          "name": "stdout",
          "text": [
            "Index(['Unnamed: 0', 'election_date', 'state', 'county_name', 'jurisdiction',\n",
            "       'jurisdiction_type', 'precinct_id', 'precinct_name', 'polling_place_id',\n",
            "       'location_type', 'name', 'address', 'notes', 'source', 'source_date',\n",
            "       'source_notes', 'StreetAddress', 'City', 'StateZip', 'State',\n",
            "       'ZipCode'],\n",
            "      dtype='object')\n"
          ]
        }
      ]
    },
    {
      "cell_type": "code",
      "source": [
        "#Split the addresses into separate columns\n",
        "Iowa[['StreetAddress', 'City', 'StateZip']] = Iowa['address'].str.split(', ', expand=True)"
      ],
      "metadata": {
        "id": "Yb6z9FvZtVlJ"
      },
      "execution_count": 4,
      "outputs": []
    },
    {
      "cell_type": "code",
      "source": [
        "#Split state and Zip code into separate columns\n",
        "Iowa[['State', 'ZipCode']] = Iowa['StateZip'].str.split(' ', expand=True)"
      ],
      "metadata": {
        "id": "m0BsL6GaX-CI"
      },
      "execution_count": 5,
      "outputs": []
    },
    {
      "cell_type": "code",
      "source": [
        "#drop column 'StateZip'\n",
        "Iowa.drop(columns=['StateZip'], inplace=True)"
      ],
      "metadata": {
        "id": "gp1--yjXZNTq"
      },
      "execution_count": 6,
      "outputs": []
    },
    {
      "cell_type": "code",
      "source": [
        "#Open category dictionary\n",
        "categorize = pd.read_csv(r'/content/Religious Buildings Dictionary.csv') #open the dictionary\n",
        "print(categorize.head(10)) #check first 10 rows"
      ],
      "metadata": {
        "id": "apN6xfWodQma",
        "colab": {
          "base_uri": "https://localhost:8080/"
        },
        "outputId": "8447b487-bb67-44ed-b47c-e140dee13de0"
      },
      "execution_count": 9,
      "outputs": [
        {
          "output_type": "stream",
          "name": "stdout",
          "text": [
            "            category       word\n",
            "0  ReligiousBuilding     CHURCH\n",
            "1  ReligiousBuilding  SYNAGOGUE\n",
            "2  ReligiousBuilding     MOSQUE\n",
            "3  ReligiousBuilding  CHRISTIAN\n",
            "4  ReligiousBuilding  METHODIST\n",
            "5  ReligiousBuilding   LUTHERAN\n",
            "6  ReligiousBuilding       ZION\n",
            "7  ReligiousBuilding   PASTORAL\n",
            "8  ReligiousBuilding     PARISH\n",
            "9  ReligiousBuilding      PRESB\n"
          ]
        }
      ]
    },
    {
      "cell_type": "code",
      "source": [
        "#Create a function to lookup and assign categories\n",
        "def assign_category(text):\n",
        "    matching_categories = categorize[categorize['word'].apply(lambda word: str(word) in text)] #this is a function telling that for words in text, see if each word matches with word in the dictionary\n",
        "\n",
        "    if not matching_categories.empty: #when there is a match\n",
        "        return ', '.join(matching_categories['category']) #list the category name. When there are more than two matches, put category names joined by ','\n",
        "    else:\n",
        "        return 'NonReligious' # if there is no match"
      ],
      "metadata": {
        "id": "qzcUfxGyiI3Z"
      },
      "execution_count": 10,
      "outputs": []
    },
    {
      "cell_type": "code",
      "source": [
        "Iowa['category'] = Iowa['name'].apply(assign_category) #make another column, 'category' containing list of categories associated with name"
      ],
      "metadata": {
        "id": "fubQ-siFiK98"
      },
      "execution_count": 11,
      "outputs": []
    },
    {
      "cell_type": "code",
      "source": [
        "Iowa['category'].value_counts()"
      ],
      "metadata": {
        "colab": {
          "base_uri": "https://localhost:8080/",
          "height": 241
        },
        "id": "9j-S3qPQKgo-",
        "outputId": "c6823083-bd1a-43a7-ba70-c0ebf052fc66"
      },
      "execution_count": 12,
      "outputs": [
        {
          "output_type": "execute_result",
          "data": {
            "text/plain": [
              "category\n",
              "NonReligious                                               1257\n",
              "ReligiousBuilding, ReligiousBuilding                        247\n",
              "ReligiousBuilding                                           167\n",
              "ReligiousBuilding, ReligiousBuilding, ReligiousBuilding      10\n",
              "Name: count, dtype: int64"
            ],
            "text/html": [
              "<div>\n",
              "<style scoped>\n",
              "    .dataframe tbody tr th:only-of-type {\n",
              "        vertical-align: middle;\n",
              "    }\n",
              "\n",
              "    .dataframe tbody tr th {\n",
              "        vertical-align: top;\n",
              "    }\n",
              "\n",
              "    .dataframe thead th {\n",
              "        text-align: right;\n",
              "    }\n",
              "</style>\n",
              "<table border=\"1\" class=\"dataframe\">\n",
              "  <thead>\n",
              "    <tr style=\"text-align: right;\">\n",
              "      <th></th>\n",
              "      <th>count</th>\n",
              "    </tr>\n",
              "    <tr>\n",
              "      <th>category</th>\n",
              "      <th></th>\n",
              "    </tr>\n",
              "  </thead>\n",
              "  <tbody>\n",
              "    <tr>\n",
              "      <th>NonReligious</th>\n",
              "      <td>1257</td>\n",
              "    </tr>\n",
              "    <tr>\n",
              "      <th>ReligiousBuilding, ReligiousBuilding</th>\n",
              "      <td>247</td>\n",
              "    </tr>\n",
              "    <tr>\n",
              "      <th>ReligiousBuilding</th>\n",
              "      <td>167</td>\n",
              "    </tr>\n",
              "    <tr>\n",
              "      <th>ReligiousBuilding, ReligiousBuilding, ReligiousBuilding</th>\n",
              "      <td>10</td>\n",
              "    </tr>\n",
              "  </tbody>\n",
              "</table>\n",
              "</div><br><label><b>dtype:</b> int64</label>"
            ]
          },
          "metadata": {},
          "execution_count": 12
        }
      ]
    },
    {
      "cell_type": "code",
      "source": [
        "#Split the 'category' column by comma and create a new DataFrame with each category in a separate row\n",
        "categories_split = Iowa['category'].str.split(', ').explode().reset_index(drop=True) #explode to check all the categories associated with the dataset\n",
        "unique_categories = categories_split.unique() #only retain unique categories\n",
        "print(unique_categories) #print unique categories found in the dataset"
      ],
      "metadata": {
        "colab": {
          "base_uri": "https://localhost:8080/"
        },
        "outputId": "afe350a0-1711-482d-aced-f671c2100b45",
        "id": "UJt98CFsKoXb"
      },
      "execution_count": 13,
      "outputs": [
        {
          "output_type": "stream",
          "name": "stdout",
          "text": [
            "['NonReligious' 'ReligiousBuilding']\n"
          ]
        }
      ]
    },
    {
      "cell_type": "code",
      "source": [
        "Iowa['category'] = Iowa['category'].astype(str) #make sure the category column is in string\n",
        "categories_split = Iowa['category'].str.split(', ') # Split the 'category' column by comma (', ') and create binary columns\n",
        "print(categories_split) #look at the results\n",
        "\n",
        "for new_column in unique_categories:\n",
        "    Iowa[new_column] = categories_split.apply(lambda x: x.count(new_column)) #create columns and count the number of the category in the list\n",
        "\n",
        "Iowa.fillna(0, inplace=True) # Fill NaN values with 0 in the binary columns"
      ],
      "metadata": {
        "colab": {
          "base_uri": "https://localhost:8080/"
        },
        "outputId": "09b05b5d-d6c1-4689-eb72-4f112180bfb9",
        "id": "SX-YD2kIK2zJ"
      },
      "execution_count": 14,
      "outputs": [
        {
          "output_type": "stream",
          "name": "stdout",
          "text": [
            "0                               [NonReligious]\n",
            "1                               [NonReligious]\n",
            "2                               [NonReligious]\n",
            "3       [ReligiousBuilding, ReligiousBuilding]\n",
            "4                               [NonReligious]\n",
            "                         ...                  \n",
            "1676                            [NonReligious]\n",
            "1677                            [NonReligious]\n",
            "1678                            [NonReligious]\n",
            "1679                            [NonReligious]\n",
            "1680                            [NonReligious]\n",
            "Name: category, Length: 1681, dtype: object\n"
          ]
        }
      ]
    },
    {
      "cell_type": "code",
      "source": [
        "Iowa.columns"
      ],
      "metadata": {
        "id": "qLMJO1asi0G_",
        "colab": {
          "base_uri": "https://localhost:8080/"
        },
        "outputId": "948e761c-439c-479b-e1f3-c2c2fb056195"
      },
      "execution_count": 15,
      "outputs": [
        {
          "output_type": "execute_result",
          "data": {
            "text/plain": [
              "Index(['Unnamed: 0', 'election_date', 'state', 'county_name', 'jurisdiction',\n",
              "       'jurisdiction_type', 'precinct_id', 'precinct_name', 'polling_place_id',\n",
              "       'location_type', 'name', 'address', 'notes', 'source', 'source_date',\n",
              "       'source_notes', 'StreetAddress', 'City', 'State', 'ZipCode', 'category',\n",
              "       'NonReligious', 'ReligiousBuilding'],\n",
              "      dtype='object')"
            ]
          },
          "metadata": {},
          "execution_count": 15
        }
      ]
    },
    {
      "cell_type": "code",
      "source": [
        "def generate_type(df):\n",
        "    religious = 1\n",
        "    nonreligious = 2\n",
        "\n",
        "    # Generate 'building type' based on conditions\n",
        "    df['BuildingType'] = None  # Initialize new column with None\n",
        "\n",
        "    # Update 'building type' based on conditions\n",
        "    df.loc[df['ReligiousBuilding'] > 0, 'BuildingType'] = 'Religious'\n",
        "    df.loc[df['NonReligious'] > 0, 'BuildingType'] = 'NonReligious'\n",
        "\n",
        "    return df\n",
        "\n",
        "Iowa = generate_type(Iowa)"
      ],
      "metadata": {
        "id": "g8p0t3ETvZnD"
      },
      "execution_count": 16,
      "outputs": []
    },
    {
      "cell_type": "code",
      "source": [
        "Iowa.columns"
      ],
      "metadata": {
        "colab": {
          "base_uri": "https://localhost:8080/"
        },
        "outputId": "f1d31ce7-5eeb-4286-88bd-9cd351608619",
        "id": "H0AWdnwsThR2"
      },
      "execution_count": 17,
      "outputs": [
        {
          "output_type": "execute_result",
          "data": {
            "text/plain": [
              "Index(['Unnamed: 0', 'election_date', 'state', 'county_name', 'jurisdiction',\n",
              "       'jurisdiction_type', 'precinct_id', 'precinct_name', 'polling_place_id',\n",
              "       'location_type', 'name', 'address', 'notes', 'source', 'source_date',\n",
              "       'source_notes', 'StreetAddress', 'City', 'State', 'ZipCode', 'category',\n",
              "       'NonReligious', 'ReligiousBuilding', 'BuildingType'],\n",
              "      dtype='object')"
            ]
          },
          "metadata": {},
          "execution_count": 17
        }
      ]
    },
    {
      "cell_type": "code",
      "source": [
        "Iowa['BuildingType'].value_counts()"
      ],
      "metadata": {
        "colab": {
          "base_uri": "https://localhost:8080/",
          "height": 178
        },
        "id": "kGkodVvLTrq8",
        "outputId": "02638d1b-ab9d-422a-c5ac-b4d381fddc2d"
      },
      "execution_count": 18,
      "outputs": [
        {
          "output_type": "execute_result",
          "data": {
            "text/plain": [
              "BuildingType\n",
              "NonReligious    1257\n",
              "Religious        424\n",
              "Name: count, dtype: int64"
            ],
            "text/html": [
              "<div>\n",
              "<style scoped>\n",
              "    .dataframe tbody tr th:only-of-type {\n",
              "        vertical-align: middle;\n",
              "    }\n",
              "\n",
              "    .dataframe tbody tr th {\n",
              "        vertical-align: top;\n",
              "    }\n",
              "\n",
              "    .dataframe thead th {\n",
              "        text-align: right;\n",
              "    }\n",
              "</style>\n",
              "<table border=\"1\" class=\"dataframe\">\n",
              "  <thead>\n",
              "    <tr style=\"text-align: right;\">\n",
              "      <th></th>\n",
              "      <th>count</th>\n",
              "    </tr>\n",
              "    <tr>\n",
              "      <th>BuildingType</th>\n",
              "      <th></th>\n",
              "    </tr>\n",
              "  </thead>\n",
              "  <tbody>\n",
              "    <tr>\n",
              "      <th>NonReligious</th>\n",
              "      <td>1257</td>\n",
              "    </tr>\n",
              "    <tr>\n",
              "      <th>Religious</th>\n",
              "      <td>424</td>\n",
              "    </tr>\n",
              "  </tbody>\n",
              "</table>\n",
              "</div><br><label><b>dtype:</b> int64</label>"
            ]
          },
          "metadata": {},
          "execution_count": 18
        }
      ]
    },
    {
      "cell_type": "code",
      "execution_count": 19,
      "metadata": {
        "colab": {
          "base_uri": "https://localhost:8080/"
        },
        "outputId": "f531fb45-f46a-4979-9e20-c8fcaabaa2fb",
        "id": "4ka0KJ-CKeUd"
      },
      "outputs": [
        {
          "output_type": "stream",
          "name": "stdout",
          "text": [
            "Index(['Unnamed: 0', 'election_date', 'state', 'county_name', 'jurisdiction',\n",
            "       'jurisdiction_type', 'precinct_id', 'precinct_name', 'polling_place_id',\n",
            "       'location_type', 'name', 'address', 'notes', 'source', 'source_date',\n",
            "       'source_notes', 'StreetAddress', 'City', 'State', 'ZipCode', 'category',\n",
            "       'NonReligious', 'ReligiousBuilding', 'BuildingType'],\n",
            "      dtype='object')\n"
          ]
        }
      ],
      "source": [
        "print(Iowa.columns) #Show the name of all the variables.\n",
        "fieldnames = Iowa.columns"
      ]
    },
    {
      "cell_type": "code",
      "execution_count": 20,
      "metadata": {
        "id": "WEkiPG6EKeUe"
      },
      "outputs": [],
      "source": [
        "#Split the addresses into separate columns\n",
        "Iowa[['StreetAddress', 'City', 'StateZip']] = Iowa['address'].str.split(', ', expand=True)"
      ]
    },
    {
      "cell_type": "code",
      "execution_count": 21,
      "metadata": {
        "id": "F1C_C519KeUe"
      },
      "outputs": [],
      "source": [
        "#Split state and Zip code into separate columns\n",
        "Iowa[['State', 'ZipCode']] = Iowa['StateZip'].str.split(' ', expand=True)"
      ]
    },
    {
      "cell_type": "code",
      "execution_count": 22,
      "metadata": {
        "id": "pP-qGnwgKeUe"
      },
      "outputs": [],
      "source": [
        "#drop column 'StateZip'\n",
        "Iowa.drop(columns=['StateZip'], inplace=True)"
      ]
    },
    {
      "cell_type": "code",
      "source": [
        "#Save data to csv file.\n",
        "Iowa.to_csv(\"Iowa Processed.csv\")"
      ],
      "metadata": {
        "id": "zeYf2Cvxup1Z"
      },
      "execution_count": 23,
      "outputs": []
    }
  ]
}